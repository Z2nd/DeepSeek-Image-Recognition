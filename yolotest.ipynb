{
 "cells": [
  {
   "cell_type": "code",
   "execution_count": 1,
   "id": "e00aa6da",
   "metadata": {},
   "outputs": [
    {
     "name": "stdout",
     "output_type": "stream",
     "text": [
      "库导入完成。\n"
     ]
    }
   ],
   "source": [
    "import cv2\n",
    "from ultralytics import YOLO\n",
    "from IPython.display import display, Image # 用于在 Notebook 中显示静态图像（可选）\n",
    "import time # 用于计算 FPS (可选)\n",
    "\n",
    "print(\"库导入完成。\")"
   ]
  },
  {
   "cell_type": "code",
   "execution_count": 2,
   "id": "8747886a",
   "metadata": {},
   "outputs": [
    {
     "name": "stdout",
     "output_type": "stream",
     "text": [
      "YOLOv8n 模型加载成功。\n"
     ]
    }
   ],
   "source": [
    "try:\n",
    "    model = YOLO('yolov8n.pt')\n",
    "    print(\"YOLOv8n 模型加载成功。\")\n",
    "except Exception as e:\n",
    "    print(f\"加载 YOLO 模型失败: {e}\")\n",
    "    # 如果模型加载失败，后续单元格可能无法正常工作\n",
    "    # 考虑在这里停止或给出更明确的指示\n"
   ]
  },
  {
   "cell_type": "code",
   "execution_count": 13,
   "id": "e6acc688",
   "metadata": {},
   "outputs": [
    {
     "name": "stdout",
     "output_type": "stream",
     "text": [
      "摄像头已成功打开。准备进行实时检测。\n",
      "在检测窗口激活时，按 'q' 键退出。\n"
     ]
    }
   ],
   "source": [
    "# 尝试打开默认摄像头 (通常索引为 0)\n",
    "cap = cv2.VideoCapture(0) # 0 代表默认摄像头，如果有多个摄像头，可以尝试 1, 2, ...\n",
    "\n",
    "if not cap.isOpened():\n",
    "    print(\"错误：无法打开摄像头。请检查摄像头是否连接或被其他程序占用。\")\n",
    "    # 如果摄像头打开失败，后续单元格将无法执行\n",
    "else:\n",
    "    print(\"摄像头已成功打开。准备进行实时检测。\")\n",
    "    print(\"在检测窗口激活时，按 'q' 键退出。\")\n"
   ]
  },
  {
   "cell_type": "code",
   "execution_count": 14,
   "id": "44f10848",
   "metadata": {},
   "outputs": [
    {
     "name": "stdout",
     "output_type": "stream",
     "text": [
      "检测被用户中断 (Ctrl+C)。\n",
      "摄像头已释放。\n",
      "OpenCV 窗口已关闭。\n"
     ]
    }
   ],
   "source": [
    "if 'cap' in locals() and cap.isOpened() and 'model' in locals():\n",
    "    # (可选) 用于计算 FPS\n",
    "    fps_update_interval = 1 # 更新 FPS 显示的秒数\n",
    "    frame_count = 0\n",
    "    start_time = time.time()\n",
    "\n",
    "    try:\n",
    "        while True:\n",
    "            # 从摄像头读取一帧\n",
    "            ret, frame = cap.read()\n",
    "            if not ret:\n",
    "                print(\"错误：无法从摄像头读取帧。\")\n",
    "                break\n",
    "\n",
    "            # 使用 YOLOv8n 进行目标检测\n",
    "            results = model(frame, verbose=False) # verbose=False 减少控制台输出\n",
    "            annotated_frame = results[0].plot()\n",
    "\n",
    "            # (可选) 计算并显示 FPS\n",
    "            current_time = time.time()\n",
    "            frame_count += 1\n",
    "            elapsed_time = current_time - start_time\n",
    "\n",
    "            if elapsed_time >= fps_update_interval:\n",
    "                fps = frame_count / elapsed_time\n",
    "                cv2.putText(annotated_frame, f\"FPS: {fps:.2f}\", (10, 30),\n",
    "                            cv2.FONT_HERSHEY_SIMPLEX, 1, (0, 255, 0), 2, cv2.LINE_AA)\n",
    "                # 重置计数器\n",
    "                frame_count = 0\n",
    "                start_time = current_time\n",
    "            elif frame_count > 0 : # 如果还没到更新间隔，但已有帧，也显示上一次的FPS\n",
    "                 # 为了避免除以0，确保elapsed_time > 0\n",
    "                if elapsed_time > 0:\n",
    "                    fps = frame_count / elapsed_time\n",
    "                    cv2.putText(annotated_frame, f\"FPS: {fps:.2f}\", (10, 30),\n",
    "                                cv2.FONT_HERSHEY_SIMPLEX, 1, (0, 255, 0), 2, cv2.LINE_AA)\n",
    "\n",
    "\n",
    "            # 显示带有检测结果的帧\n",
    "            cv2.imshow('YOLOv8 实时检测 (按 q 退出)', annotated_frame)\n",
    "\n",
    "            # 检测按键，如果按下 'q' 键，则退出循环\n",
    "            if cv2.waitKey(1) & 0xFF == ord('q'):\n",
    "                print(\"检测已停止。\")\n",
    "                break\n",
    "\n",
    "    except KeyboardInterrupt:\n",
    "        print(\"检测被用户中断 (Ctrl+C)。\")\n",
    "    except Exception as e:\n",
    "        print(f\"实时检测过程中发生错误: {e}\")\n",
    "    finally:\n",
    "        # 释放摄像头资源\n",
    "        if cap.isOpened():\n",
    "            cap.release()\n",
    "            print(\"摄像头已释放。\")\n",
    "        # 关闭所有 OpenCV 创建的窗口\n",
    "        cv2.destroyAllWindows()\n",
    "        print(\"OpenCV 窗口已关闭。\")\n",
    "        # 在Jupyter中，有时需要手动关闭弹窗或重启内核以确保窗口完全消失\n",
    "else:\n",
    "    if 'cap' not in locals() or not cap.isOpened():\n",
    "        print(\"摄像头未初始化或打开失败，请先运行前面的单元格。\")\n",
    "    if 'model' not in locals():\n",
    "        print(\"YOLO 模型未加载，请先运行模型加载单元格。\")\n",
    "    # 如果在运行主循环后，窗口仍然存在，可以尝试运行此单元格\n",
    "    # 或者在中断内核后，运行此单元格来尝试清理\n",
    "    if 'cap' in locals() and cap.isOpened():\n",
    "        cap.release()\n",
    "        print(\"摄像头已手动释放。\")\n",
    "    cv2.destroyAllWindows()\n",
    "    print(\"所有 OpenCV 窗口已尝试关闭。\")\n",
    "    print(\"提示：如果窗口仍然存在，您可能需要重启 Jupyter 内核。\")\n",
    "\n",
    "    \n",
    "\n",
    "\n",
    "\n",
    "\n"
   ]
  }
 ],
 "metadata": {
  "kernelspec": {
   "display_name": "image2text",
   "language": "python",
   "name": "python3"
  },
  "language_info": {
   "codemirror_mode": {
    "name": "ipython",
    "version": 3
   },
   "file_extension": ".py",
   "mimetype": "text/x-python",
   "name": "python",
   "nbconvert_exporter": "python",
   "pygments_lexer": "ipython3",
   "version": "3.11.13"
  }
 },
 "nbformat": 4,
 "nbformat_minor": 5
}
